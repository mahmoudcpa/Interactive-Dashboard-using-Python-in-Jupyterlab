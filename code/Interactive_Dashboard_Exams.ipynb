{
 "cells": [
  {
   "cell_type": "code",
   "execution_count": 1,
   "id": "b33e9397-526d-4a59-81fc-3941a096b824",
   "metadata": {},
   "outputs": [],
   "source": [
    "#!pip install ipywidgets"
   ]
  },
  {
   "cell_type": "code",
   "execution_count": 2,
   "id": "d5a959e7-5aa7-488c-8399-0781cba55343",
   "metadata": {},
   "outputs": [
    {
     "data": {
      "text/plain": [
       "'8.1.7'"
      ]
     },
     "execution_count": 2,
     "metadata": {},
     "output_type": "execute_result"
    }
   ],
   "source": [
    "import ipywidgets as widgets\n",
    "widgets.__version__"
   ]
  },
  {
   "cell_type": "code",
   "execution_count": 3,
   "id": "cb977d98-28bd-4ac6-90ca-a7e1de826ed3",
   "metadata": {},
   "outputs": [],
   "source": [
    "#!pip install jupyterlab_widgets"
   ]
  },
  {
   "cell_type": "code",
   "execution_count": 4,
   "id": "28a71d0a-1dd2-41c6-8a37-512b7796a01b",
   "metadata": {},
   "outputs": [],
   "source": [
    "#!pip install --upgrade ipywidgets jupyterlab_widgets"
   ]
  },
  {
   "cell_type": "code",
   "execution_count": 5,
   "id": "15f548c8-1ddb-4f64-bbcf-87a42474dbcf",
   "metadata": {},
   "outputs": [],
   "source": [
    "import pandas as pd\n",
    "import ipywidgets\n",
    "from IPython.display import display\n",
    "\n",
    "import seaborn as sns\n",
    "import matplotlib.pyplot as plt\n",
    "\n",
    "import warnings\n",
    "warnings.filterwarnings('ignore')"
   ]
  },
  {
   "cell_type": "code",
   "execution_count": 7,
   "id": "11c5ea04-0434-4057-a0f2-6b2ad6320dea",
   "metadata": {},
   "outputs": [],
   "source": [
    "df = pd.read_csv(\n",
    "    \"F:\\Mn\\MN_Learn\\Dashboards\\Students_Exams\\exams.csv\"\n",
    ")"
   ]
  },
  {
   "cell_type": "code",
   "execution_count": 8,
   "id": "e6fb781d-98d1-4434-a7d6-d27d9a127ca4",
   "metadata": {},
   "outputs": [
    {
     "data": {
      "text/plain": [
       "(1000, 8)"
      ]
     },
     "execution_count": 8,
     "metadata": {},
     "output_type": "execute_result"
    }
   ],
   "source": [
    "df.shape"
   ]
  },
  {
   "cell_type": "code",
   "execution_count": 9,
   "id": "fd0e4a28-f94c-43d5-a87d-2b18c296eecb",
   "metadata": {},
   "outputs": [
    {
     "data": {
      "text/html": [
       "<div>\n",
       "<style scoped>\n",
       "    .dataframe tbody tr th:only-of-type {\n",
       "        vertical-align: middle;\n",
       "    }\n",
       "\n",
       "    .dataframe tbody tr th {\n",
       "        vertical-align: top;\n",
       "    }\n",
       "\n",
       "    .dataframe thead th {\n",
       "        text-align: right;\n",
       "    }\n",
       "</style>\n",
       "<table border=\"1\" class=\"dataframe\">\n",
       "  <thead>\n",
       "    <tr style=\"text-align: right;\">\n",
       "      <th></th>\n",
       "      <th>gender</th>\n",
       "      <th>race/ethnicity</th>\n",
       "      <th>parental level of education</th>\n",
       "      <th>lunch</th>\n",
       "      <th>test preparation course</th>\n",
       "      <th>math score</th>\n",
       "      <th>reading score</th>\n",
       "      <th>writing score</th>\n",
       "    </tr>\n",
       "  </thead>\n",
       "  <tbody>\n",
       "    <tr>\n",
       "      <th>0</th>\n",
       "      <td>male</td>\n",
       "      <td>group A</td>\n",
       "      <td>high school</td>\n",
       "      <td>standard</td>\n",
       "      <td>completed</td>\n",
       "      <td>67</td>\n",
       "      <td>67</td>\n",
       "      <td>63</td>\n",
       "    </tr>\n",
       "    <tr>\n",
       "      <th>1</th>\n",
       "      <td>female</td>\n",
       "      <td>group D</td>\n",
       "      <td>some high school</td>\n",
       "      <td>free/reduced</td>\n",
       "      <td>none</td>\n",
       "      <td>40</td>\n",
       "      <td>59</td>\n",
       "      <td>55</td>\n",
       "    </tr>\n",
       "    <tr>\n",
       "      <th>2</th>\n",
       "      <td>male</td>\n",
       "      <td>group E</td>\n",
       "      <td>some college</td>\n",
       "      <td>free/reduced</td>\n",
       "      <td>none</td>\n",
       "      <td>59</td>\n",
       "      <td>60</td>\n",
       "      <td>50</td>\n",
       "    </tr>\n",
       "    <tr>\n",
       "      <th>3</th>\n",
       "      <td>male</td>\n",
       "      <td>group B</td>\n",
       "      <td>high school</td>\n",
       "      <td>standard</td>\n",
       "      <td>none</td>\n",
       "      <td>77</td>\n",
       "      <td>78</td>\n",
       "      <td>68</td>\n",
       "    </tr>\n",
       "    <tr>\n",
       "      <th>4</th>\n",
       "      <td>male</td>\n",
       "      <td>group E</td>\n",
       "      <td>associate's degree</td>\n",
       "      <td>standard</td>\n",
       "      <td>completed</td>\n",
       "      <td>78</td>\n",
       "      <td>73</td>\n",
       "      <td>68</td>\n",
       "    </tr>\n",
       "  </tbody>\n",
       "</table>\n",
       "</div>"
      ],
      "text/plain": [
       "   gender race/ethnicity parental level of education         lunch  \\\n",
       "0    male        group A                 high school      standard   \n",
       "1  female        group D            some high school  free/reduced   \n",
       "2    male        group E                some college  free/reduced   \n",
       "3    male        group B                 high school      standard   \n",
       "4    male        group E          associate's degree      standard   \n",
       "\n",
       "  test preparation course  math score  reading score  writing score  \n",
       "0               completed          67             67             63  \n",
       "1                    none          40             59             55  \n",
       "2                    none          59             60             50  \n",
       "3                    none          77             78             68  \n",
       "4               completed          78             73             68  "
      ]
     },
     "execution_count": 9,
     "metadata": {},
     "output_type": "execute_result"
    }
   ],
   "source": [
    "df.head()"
   ]
  },
  {
   "cell_type": "code",
   "execution_count": 10,
   "id": "8e627c16-c87e-4fae-8069-4dc8f37a4535",
   "metadata": {},
   "outputs": [
    {
     "name": "stdout",
     "output_type": "stream",
     "text": [
      "<class 'pandas.core.frame.DataFrame'>\n",
      "RangeIndex: 1000 entries, 0 to 999\n",
      "Data columns (total 8 columns):\n",
      " #   Column                       Non-Null Count  Dtype \n",
      "---  ------                       --------------  ----- \n",
      " 0   gender                       1000 non-null   object\n",
      " 1   race/ethnicity               1000 non-null   object\n",
      " 2   parental level of education  1000 non-null   object\n",
      " 3   lunch                        1000 non-null   object\n",
      " 4   test preparation course      1000 non-null   object\n",
      " 5   math score                   1000 non-null   int64 \n",
      " 6   reading score                1000 non-null   int64 \n",
      " 7   writing score                1000 non-null   int64 \n",
      "dtypes: int64(3), object(5)\n",
      "memory usage: 62.6+ KB\n"
     ]
    }
   ],
   "source": [
    "df.info()"
   ]
  },
  {
   "cell_type": "markdown",
   "id": "e4228f7a-d5ec-4a47-883b-94ecb8b1e20f",
   "metadata": {},
   "source": [
    "Create the two groups in drop down list.\n",
    " \n",
    " To create the dropdown list with column “math score”, “reading score” , “writing score”, we can use \n",
    " \n",
    " .Dropdown method:"
   ]
  },
  {
   "cell_type": "code",
   "execution_count": 11,
   "id": "e1f11aba-3554-4740-a878-53f43abcbe6e",
   "metadata": {},
   "outputs": [
    {
     "data": {
      "text/plain": [
       "Index(['gender', 'race/ethnicity', 'parental level of education', 'lunch',\n",
       "       'test preparation course', 'math score', 'reading score',\n",
       "       'writing score'],\n",
       "      dtype='object')"
      ]
     },
     "execution_count": 11,
     "metadata": {},
     "output_type": "execute_result"
    }
   ],
   "source": [
    "df.columns"
   ]
  },
  {
   "cell_type": "markdown",
   "id": "7cfbbdaf-584b-4890-bf01-d8eaf4e54e3d",
   "metadata": {},
   "source": [
    "#### The dropdown list for Y variable"
   ]
  },
  {
   "cell_type": "code",
   "execution_count": 12,
   "id": "a6522168-c5d6-49f4-928e-3359a60f4f23",
   "metadata": {},
   "outputs": [],
   "source": [
    "drop_down_y = ipywidgets.Dropdown(\n",
    "    options=list(['math score', 'reading score','writing score']),\n",
    "    value=list(['math score', 'reading score','writing score'])[0],\n",
    "    description=\"Y variable:\",\n",
    "    disabled=False\n",
    ")"
   ]
  },
  {
   "cell_type": "markdown",
   "id": "154665d3-83a3-4571-9199-5040e09a2b14",
   "metadata": {},
   "source": [
    "#### The dropdown list for Y variable"
   ]
  },
  {
   "cell_type": "code",
   "execution_count": 13,
   "id": "98b32853-7559-4bd1-91d4-54091342885e",
   "metadata": {},
   "outputs": [],
   "source": [
    "drop_down_x = ipywidgets.Dropdown(\n",
    "    options=list(['gender', 'race/ethnicity', 'parental level of education', 'lunch',\n",
    "       'test preparation course']),\n",
    "    value=list(['gender', 'race/ethnicity', 'parental level of education', 'lunch',\n",
    "       'test preparation course'])[0],\n",
    "    description=\"X variable:\",\n",
    "    disabled=False\n",
    ")"
   ]
  },
  {
   "cell_type": "code",
   "execution_count": 14,
   "id": "d61d859d-e6c2-46b2-bac6-4c520eb3acb1",
   "metadata": {},
   "outputs": [],
   "source": [
    "# drop_down_x = ipywidgets.Dropdown(\n",
    "#     options=list(df.drop(columns=['math score', 'reading score','writing score']).columns),\n",
    "#     value=list(df.drop(columns=['math score', 'reading score','writing score']).columns)[0],\n",
    "#     description=\"X variable:\",\n",
    "#     disabled=False\n",
    "# )"
   ]
  },
  {
   "cell_type": "markdown",
   "id": "f74a3312-04d5-45cb-a4e2-c0fa1f9fbedb",
   "metadata": {},
   "source": [
    "Then call .HBox to the two selections in horizontal layout, call .VBox in vertical layout:"
   ]
  },
  {
   "cell_type": "code",
   "execution_count": 15,
   "id": "82f4116b-6b79-48e6-906d-fdda57642890",
   "metadata": {},
   "outputs": [
    {
     "data": {
      "application/vnd.jupyter.widget-view+json": {
       "model_id": "dd8fcd334b084e76b94b312af195f259",
       "version_major": 2,
       "version_minor": 0
      },
      "text/plain": [
       "HBox(children=(Dropdown(description='X variable:', options=('gender', 'race/ethnicity', 'parental level of edu…"
      ]
     },
     "metadata": {},
     "output_type": "display_data"
    }
   ],
   "source": [
    "display(ipywidgets.HBox([drop_down_x, drop_down_y]))"
   ]
  },
  {
   "cell_type": "code",
   "execution_count": 16,
   "id": "b429e68c-0186-49d8-89e7-d2e93ab2d55b",
   "metadata": {},
   "outputs": [
    {
     "data": {
      "application/vnd.jupyter.widget-view+json": {
       "model_id": "a232c63aee534156b44604ae09c25b0e",
       "version_major": 2,
       "version_minor": 0
      },
      "text/plain": [
       "VBox(children=(Dropdown(description='X variable:', options=('gender', 'race/ethnicity', 'parental level of edu…"
      ]
     },
     "metadata": {},
     "output_type": "display_data"
    }
   ],
   "source": [
    "display(ipywidgets.VBox([drop_down_x, drop_down_y]))"
   ]
  },
  {
   "cell_type": "markdown",
   "id": "9e6ebd5d-2baf-439a-883b-07de195f93b4",
   "metadata": {},
   "source": [
    "### An Interactive Boxplot Figure"
   ]
  },
  {
   "cell_type": "markdown",
   "id": "6fb3ee28-fa0d-46a0-a6bc-d20d22e9df78",
   "metadata": {},
   "source": [
    "define a function which create a boxplot figure by using fixed “math score” as y variable and an input \n",
    "\n",
    "column data (selected_vals) as x variable:"
   ]
  },
  {
   "cell_type": "code",
   "execution_count": 50,
   "id": "8eb6e45a-ea5c-404a-8d5e-320476236f32",
   "metadata": {},
   "outputs": [
    {
     "name": "stdout",
     "output_type": "stream",
     "text": [
      "['Solarize_Light2', '_classic_test_patch', '_mpl-gallery', '_mpl-gallery-nogrid', 'bmh', 'classic', 'dark_background', 'fast', 'fivethirtyeight', 'ggplot', 'grayscale', 'seaborn-v0_8', 'seaborn-v0_8-bright', 'seaborn-v0_8-colorblind', 'seaborn-v0_8-dark', 'seaborn-v0_8-dark-palette', 'seaborn-v0_8-darkgrid', 'seaborn-v0_8-deep', 'seaborn-v0_8-muted', 'seaborn-v0_8-notebook', 'seaborn-v0_8-paper', 'seaborn-v0_8-pastel', 'seaborn-v0_8-poster', 'seaborn-v0_8-talk', 'seaborn-v0_8-ticks', 'seaborn-v0_8-white', 'seaborn-v0_8-whitegrid', 'tableau-colorblind10']\n"
     ]
    }
   ],
   "source": [
    "print(plt.style.available)"
   ]
  },
  {
   "cell_type": "code",
   "execution_count": 17,
   "id": "7c4da957-5f06-41dd-ba6d-35bf3cf8c8bd",
   "metadata": {},
   "outputs": [],
   "source": [
    "def boxplot(x_var, y_var):\n",
    "    plt.close(\"all\")\n",
    "    fig = plt.figure(figsize=(8,4))\n",
    "    plt.style.use(\"seaborn-v0_8\")\n",
    "    sns.boxplot(x=df[x_var], y=df[y_var], palette=\"Set3\")\n",
    "    plt.title(f\"Boxplot of {y_var} by {x_var}\")\n",
    "    plt.xticks(rotation=45)\n",
    "    plt.tight_layout()\n",
    "    plt.show()\n"
   ]
  },
  {
   "cell_type": "code",
   "execution_count": 18,
   "id": "8efff3ec-a242-47fd-95d9-cdddd5c266d1",
   "metadata": {},
   "outputs": [
    {
     "data": {
      "application/vnd.jupyter.widget-view+json": {
       "model_id": "",
       "version_major": 2,
       "version_minor": 0
      },
      "text/plain": [
       "HBox(children=(Dropdown(description='X variable:', options=('gender', 'race/ethnicity', 'parental level of edu…"
      ]
     },
     "metadata": {},
     "output_type": "display_data"
    },
    {
     "data": {
      "application/vnd.jupyter.widget-view+json": {
       "model_id": "",
       "version_major": 2,
       "version_minor": 0
      },
      "text/plain": [
       "Output()"
      ]
     },
     "metadata": {},
     "output_type": "display_data"
    }
   ],
   "source": [
    "# Create interactive output\n",
    "ui = widgets.HBox([drop_down_x, drop_down_y])\n",
    "\n",
    "output = widgets.interactive_output(\n",
    "    boxplot,\n",
    "    {\"x_var\": drop_down_x, \"y_var\": drop_down_y}\n",
    ")\n",
    "\n",
    "display(ui, output)"
   ]
  },
  {
   "cell_type": "markdown",
   "id": "1e8482de-1b1a-43a1-9071-ba04079b92c9",
   "metadata": {},
   "source": [
    "### Interactive Scatterplot figure"
   ]
  },
  {
   "cell_type": "code",
   "execution_count": 19,
   "id": "b7c7276c-b8bf-4e87-adaf-a9875f6e84b7",
   "metadata": {},
   "outputs": [
    {
     "data": {
      "text/plain": [
       "Index(['gender', 'race/ethnicity', 'parental level of education', 'lunch',\n",
       "       'test preparation course', 'math score', 'reading score',\n",
       "       'writing score'],\n",
       "      dtype='object')"
      ]
     },
     "execution_count": 19,
     "metadata": {},
     "output_type": "execute_result"
    }
   ],
   "source": [
    "df.columns"
   ]
  },
  {
   "cell_type": "code",
   "execution_count": 20,
   "id": "63abe769-2021-4509-bca2-eecd8f55bac7",
   "metadata": {},
   "outputs": [],
   "source": [
    "drop_down_x = ipywidgets.Dropdown(\n",
    "    options=list(df.drop(columns=['math score', 'reading score','writing score']).columns),\n",
    "    value=list(df.drop(columns=['math score', 'reading score','writing score']).columns)[0],\n",
    "    description=\"X variable:\",\n",
    "    disabled=False\n",
    ")\n",
    "\n",
    "drop_down_y = ipywidgets.Dropdown(\n",
    "    options=list(df.drop(columns=['gender', 'race/ethnicity', 'parental level of education', 'lunch',\n",
    "       'test preparation course']).columns),\n",
    "    value=list(df.drop(columns=['gender', 'race/ethnicity', 'parental level of education', 'lunch',\n",
    "       'test preparation course']).columns)[0],\n",
    "    description=\"Y variable\",\n",
    "    disabled=False\n",
    ")\n",
    "\n",
    "drop_down_hue = ipywidgets.Dropdown(\n",
    "     options=list(df.drop(columns=['math score', 'reading score','writing score']).columns),\n",
    "    value=list(df.drop(columns=['math score', 'reading score','writing score']).columns)[0],\n",
    "    description=\"Hue\",\n",
    "    disabled=False\n",
    ")"
   ]
  },
  {
   "cell_type": "code",
   "execution_count": 48,
   "id": "83f2fc16-c382-44e2-8c44-f624a408c623",
   "metadata": {},
   "outputs": [],
   "source": [
    "def scatterplot(x_var, y_var, hue):\n",
    "    plt.close(\"all\")\n",
    "    fig = plt.figure(figsize=(8,4))\n",
    "    plt.style.use(\"seaborn-v0_8\")\n",
    "    sns.scatterplot(x=df[x_var], y=df[y_var], hue=df[hue])\n",
    "    plt.title(f\"Boxplot of {y_var} by {x_var}\")\n",
    "    plt.xticks(rotation=45)\n",
    "    plt.legend(loc=(0.75, 0.1))\n",
    "    plt.tight_layout()\n",
    "    plt.show()"
   ]
  },
  {
   "cell_type": "code",
   "execution_count": 49,
   "id": "7856fe5f-cabe-4b55-882b-9f0a6df03868",
   "metadata": {},
   "outputs": [
    {
     "data": {
      "application/vnd.jupyter.widget-view+json": {
       "model_id": "8c0d80638fc8486e9f71c95191799c91",
       "version_major": 2,
       "version_minor": 0
      },
      "text/plain": [
       "HBox(children=(Dropdown(description='X variable:', index=1, options=('gender', 'race/ethnicity', 'parental lev…"
      ]
     },
     "metadata": {},
     "output_type": "display_data"
    },
    {
     "data": {
      "application/vnd.jupyter.widget-view+json": {
       "model_id": "df86f4d654fc4cd49105c4ce1b6979df",
       "version_major": 2,
       "version_minor": 0
      },
      "text/plain": [
       "Output()"
      ]
     },
     "metadata": {},
     "output_type": "display_data"
    }
   ],
   "source": [
    "ui = widgets.HBox([drop_down_x, drop_down_y, drop_down_hue])\n",
    "\n",
    "output = widgets.interactive_output(\n",
    "    scatterplot,\n",
    "    {\"x_var\": drop_down_x, \"y_var\": drop_down_y, \"hue\": drop_down_hue}\n",
    ")\n",
    "\n",
    "display(ui, output)"
   ]
  },
  {
   "cell_type": "code",
   "execution_count": null,
   "id": "1c83ac26-71eb-4240-854a-caaa426c36c2",
   "metadata": {},
   "outputs": [],
   "source": []
  },
  {
   "cell_type": "code",
   "execution_count": null,
   "id": "314c0dab-c76c-4bc1-80a5-8a490d13ce54",
   "metadata": {},
   "outputs": [],
   "source": []
  },
  {
   "cell_type": "code",
   "execution_count": null,
   "id": "9ebdc54e-f7a4-475c-90d5-1c7a0372ff30",
   "metadata": {},
   "outputs": [],
   "source": []
  },
  {
   "cell_type": "code",
   "execution_count": null,
   "id": "7f7d94e5-b638-43ef-8aa7-4381bfb3d57a",
   "metadata": {},
   "outputs": [],
   "source": []
  },
  {
   "cell_type": "code",
   "execution_count": null,
   "id": "497e3b73-b098-417e-9dd6-0ae28c607da5",
   "metadata": {},
   "outputs": [],
   "source": []
  },
  {
   "cell_type": "code",
   "execution_count": null,
   "id": "f9da66db-78ed-4bc1-a230-d2967aa43806",
   "metadata": {},
   "outputs": [],
   "source": []
  },
  {
   "cell_type": "code",
   "execution_count": null,
   "id": "3e79492c-31e0-4984-b65c-c9eee838e6d4",
   "metadata": {},
   "outputs": [],
   "source": []
  },
  {
   "cell_type": "code",
   "execution_count": null,
   "id": "5e19e035-033d-4cb7-b0a2-553192f03861",
   "metadata": {},
   "outputs": [],
   "source": []
  },
  {
   "cell_type": "code",
   "execution_count": null,
   "id": "e878c614-4887-429e-98c7-9327d0ee701a",
   "metadata": {},
   "outputs": [],
   "source": []
  },
  {
   "cell_type": "code",
   "execution_count": null,
   "id": "48dada36-8ba6-4293-b4c2-7ca900dfba9e",
   "metadata": {},
   "outputs": [],
   "source": []
  },
  {
   "cell_type": "code",
   "execution_count": null,
   "id": "9fa17cc6-3ca5-48d2-9379-d51d07588784",
   "metadata": {},
   "outputs": [],
   "source": []
  },
  {
   "cell_type": "code",
   "execution_count": null,
   "id": "e5a7b2cd-21a9-4533-bf94-5d06696d7ccc",
   "metadata": {},
   "outputs": [],
   "source": []
  },
  {
   "cell_type": "code",
   "execution_count": null,
   "id": "35d3ce11-d1b8-4649-8ed9-4bc8819165be",
   "metadata": {},
   "outputs": [],
   "source": []
  }
 ],
 "metadata": {
  "kernelspec": {
   "display_name": "Python [conda env:base] *",
   "language": "python",
   "name": "conda-base-py"
  },
  "language_info": {
   "codemirror_mode": {
    "name": "ipython",
    "version": 3
   },
   "file_extension": ".py",
   "mimetype": "text/x-python",
   "name": "python",
   "nbconvert_exporter": "python",
   "pygments_lexer": "ipython3",
   "version": "3.12.7"
  }
 },
 "nbformat": 4,
 "nbformat_minor": 5
}
